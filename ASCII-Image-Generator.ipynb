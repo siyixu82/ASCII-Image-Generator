{
 "cells": [
  {
   "cell_type": "code",
   "execution_count": 1,
   "metadata": {},
   "outputs": [],
   "source": [
    "from PIL import Image"
   ]
  },
  {
   "cell_type": "code",
   "execution_count": 16,
   "metadata": {},
   "outputs": [
    {
     "name": "stdout",
     "output_type": "stream",
     "text": [
      "Width 60\n",
      "Height 45\n",
      "Enter the ascii character you would like to use for ascii image/\\\n"
     ]
    }
   ],
   "source": [
    "# prompt the user to enter the size of image they want\n",
    "width = int(input(\"Width \"))\n",
    "height = int(input(\"Height \"))\n",
    "ascii_char = input('Enter the ascii character you would like to use for ascii image')\n",
    "#WIDTH = 60\n",
    "#HEIGHT = 45"
   ]
  },
  {
   "cell_type": "code",
   "execution_count": 17,
   "metadata": {},
   "outputs": [],
   "source": [
    "#read in the image,resize it and convert it into RGBA\n",
    "image = Image.open(\"cartoon1.jpg\")\n",
    "image = Image.open(\"cat.png\")\n",
    "image = image.resize((width, height))\n",
    "image = image.convert(\"RGBA\")"
   ]
  },
  {
   "cell_type": "code",
   "execution_count": 18,
   "metadata": {},
   "outputs": [],
   "source": [
    "#ascii_char = list(\"$@B%8&WM#*oahkbdpqwmZO0QLCJUYXzcvunxrjft/\\|()1{}[]?-_+~<>i!lI;:,\\\"^`'. \")\n",
    "\n",
    "#turn into grayscale and map to each characters\n",
    "def get_char(r, g, b, alpha):\n",
    "    if alpha == 0:\n",
    "        return ' '\n",
    "    length = len(ascii_char)\n",
    "    gray = int(0.2126 * r + 0.7152 * g + 0.0722 * b)  \n",
    "    unit = (256.0 + 1) / length\n",
    "    return ascii_char[int(gray / unit)]  "
   ]
  },
  {
   "cell_type": "code",
   "execution_count": 23,
   "metadata": {
    "scrolled": true
   },
   "outputs": [
    {
     "name": "stdout",
     "output_type": "stream",
     "text": [
      "                                                            \n",
      "                                                            \n",
      "                                                            \n",
      "                                                            \n",
      "                                                            \n",
      "            /                         /                     \n",
      "            //                       //                     \n",
      "           ////                      //                     \n",
      "           ////                     ////                    \n",
      "           /////////////////////// /////                    \n",
      "          //////////////////////////////                    \n",
      "          //////////////////////////////                    \n",
      "         ////////////////////////////////                   \n",
      "        //////////////////////////////////                  \n",
      "       ////\\////////////////////\\////\\/////                 \n",
      "      ////\\///////\\///////////\\\\//////\\\\////                \n",
      "     ///\\\\////////\\\\/////////\\\\////////\\\\////               \n",
      "    ///\\\\\\////////\\\\\\///////\\\\\\////////\\\\\\///               \n",
      "    ///\\\\\\////////\\\\\\\\//////\\\\\\////////\\\\\\\\//               \n",
      "    ////\\\\////////\\\\\\///////\\\\\\////////\\\\\\///               \n",
      "    /////\\\\///////\\\\/////////\\\\\\//////\\\\\\////               \n",
      "    //////\\\\/////\\\\////////////\\/////\\\\//////  //////       \n",
      "    //////////\\\\//////////////////\\\\\\//////// ///  /////    \n",
      "     /////////////////////////////////////// //      ////   \n",
      "      ///////////////////////////////////// //         ///  \n",
      "       ///////////////////////////////////  //          /// \n",
      "         ///////////////////////////////    //           // \n",
      "            //////////////////////////      //          /// \n",
      "               ///////////////////          //         ///  \n",
      "                        /////               //      /////   \n",
      "                        //////             ///              \n",
      "                        ///////            ///              \n",
      "                       /////////           //               \n",
      "                       //////////         ///               \n",
      "                       //////////        ///                \n",
      "                       ///////////      ///                 \n",
      "                       ///////////   ////                   \n",
      "                      /////////////////                     \n",
      "                      //////////////                        \n",
      "                      ///////////                           \n",
      "                           ///                              \n",
      "                                                            \n",
      "                                                            \n",
      "                                                            \n",
      "                                                            \n",
      "\n"
     ]
    }
   ],
   "source": [
    "txt = \"\"\n",
    "for i in range(height):\n",
    "    for j in range(width):\n",
    "        r,g,b,a= image.getpixel((j, i))\n",
    "        txt += get_char(r,g,b,a) # 获得相应的字符\n",
    "    txt += '\\n'\n",
    "    \n",
    "print(txt) \n",
    "\n",
    "file = open(\"ASCII_Image.txt\",\"w\") \n",
    "file.write(txt)\n",
    "file.close()\n"
   ]
  }
 ],
 "metadata": {
  "kernelspec": {
   "display_name": "Python 3",
   "language": "python",
   "name": "python3"
  },
  "language_info": {
   "codemirror_mode": {
    "name": "ipython",
    "version": 3
   },
   "file_extension": ".py",
   "mimetype": "text/x-python",
   "name": "python",
   "nbconvert_exporter": "python",
   "pygments_lexer": "ipython3",
   "version": "3.7.3"
  }
 },
 "nbformat": 4,
 "nbformat_minor": 2
}
