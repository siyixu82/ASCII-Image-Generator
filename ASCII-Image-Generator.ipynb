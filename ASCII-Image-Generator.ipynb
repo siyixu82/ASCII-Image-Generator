{
 "cells": [
  {
   "cell_type": "code",
   "execution_count": 1,
   "metadata": {},
   "outputs": [],
   "source": [
    "from PIL import Image"
   ]
  },
  {
   "cell_type": "code",
   "execution_count": 16,
   "metadata": {},
   "outputs": [
    {
     "name": "stdout",
     "output_type": "stream",
     "text": [
      "Width 60\n",
      "Height 45\n",
      "Enter the ascii character you would like to use for ascii image/\\\n"
     ]
    }
   ],
   "source": [
    "# prompt the user to enter the size of image they want\n",
    "width = int(input(\"Width \"))\n",
    "height = int(input(\"Height \"))\n",
    "ascii_char = input('Enter the ascii character you would like to use for ascii image')\n",
    "#WIDTH = 60\n",
    "#HEIGHT = 45"
   ]
  },
  {
   "cell_type": "code",
   "execution_count": 8,
   "metadata": {},
   "outputs": [
    {
     "data": {
      "text/plain": [
       "'60'"
      ]
     },
     "execution_count": 8,
     "metadata": {},
     "output_type": "execute_result"
    }
   ],
   "source": []
  },
  {
   "cell_type": "code",
   "execution_count": 17,
   "metadata": {},
   "outputs": [],
   "source": [
    "#read in the image,resize it and convert it into RGBA\n",
    "image = Image.open(\"cartoon1.jpg\")\n",
    "image = Image.open(\"cat.png\")\n",
    "image = image.resize((width, height))\n",
    "image = image.convert(\"RGBA\")"
   ]
  },
  {
   "cell_type": "code",
   "execution_count": 18,
   "metadata": {},
   "outputs": [],
   "source": [
    "#ascii_char = list(\"$@B%8&WM#*oahkbdpqwmZO0QLCJUYXzcvunxrjft/\\|()1{}[]?-_+~<>i!lI;:,\\\"^`'. \")\n",
    "\n",
    "#turn into grayscale and map to each characters\n",
    "def get_char(r, g, b, alpha):\n",
    "    if alpha == 0:\n",
    "        return ' '\n",
    "    length = len(ascii_char)\n",
    "    gray = int(0.2126 * r + 0.7152 * g + 0.0722 * b)  \n",
    "    unit = (256.0 + 1) / length\n",
    "    return ascii_char[int(gray / unit)]  "
   ]
  },
  {
   "cell_type": "code",
   "execution_count": 22,
   "metadata": {
    "scrolled": true
   },
   "outputs": [
    {
     "name": "stdout",
     "output_type": "stream",
     "text": [
      "                                                            \n",
      "                                                            \n",
      "                                                            \n",
      "                                                            \n",
      "                                                            \n",
      "            /                         /                     \n",
      "            //                       //                     \n",
      "           ////                      //                     \n",
      "           ////                     ////                    \n",
      "           /////////////////////// /////                    \n",
      "          //////////////////////////////                    \n",
      "          //////////////////////////////                    \n",
      "         ////////////////////////////////                   \n",
      "        //////////////////////////////////                  \n",
      "       ////\\////////////////////\\////\\/////                 \n",
      "      ////\\///////\\///////////\\\\//////\\\\////                \n",
      "     ///\\\\////////\\\\/////////\\\\////////\\\\////               \n",
      "    ///\\\\\\////////\\\\\\///////\\\\\\////////\\\\\\///               \n",
      "    ///\\\\\\////////\\\\\\\\//////\\\\\\////////\\\\\\\\//               \n",
      "    ////\\\\////////\\\\\\///////\\\\\\////////\\\\\\///               \n",
      "    /////\\\\///////\\\\/////////\\\\\\//////\\\\\\////               \n",
      "    //////\\\\/////\\\\////////////\\/////\\\\//////  //////       \n",
      "    //////////\\\\//////////////////\\\\\\//////// ///  /////    \n",
      "     /////////////////////////////////////// //      ////   \n",
      "      ///////////////////////////////////// //         ///  \n",
      "       ///////////////////////////////////  //          /// \n",
      "         ///////////////////////////////    //           // \n",
      "            //////////////////////////      //          /// \n",
      "               ///////////////////          //         ///  \n",
      "                        /////               //      /////   \n",
      "                        //////             ///              \n",
      "                        ///////            ///              \n",
      "                       /////////           //               \n",
      "                       //////////         ///               \n",
      "                       //////////        ///                \n",
      "                       ///////////      ///                 \n",
      "                       ///////////   ////                   \n",
      "                      /////////////////                     \n",
      "                      //////////////                        \n",
      "                      ///////////                           \n",
      "                           ///                              \n",
      "                                                            \n",
      "                                                            \n",
      "                                                            \n",
      "                                                            \n",
      "\n"
     ]
    },
    {
     "ename": "FileNotFoundError",
     "evalue": "[Errno 2] No such file or directory: 'C:\\\\Users\\\\sx654\\\\Desktop\\\\Projectst\\\\ASCII_Image.txt'",
     "output_type": "error",
     "traceback": [
      "\u001b[1;31m---------------------------------------------------------------------------\u001b[0m",
      "\u001b[1;31mFileNotFoundError\u001b[0m                         Traceback (most recent call last)",
      "\u001b[1;32m<ipython-input-22-295f950b3002>\u001b[0m in \u001b[0;36m<module>\u001b[1;34m\u001b[0m\n\u001b[0;32m     11\u001b[0m \u001b[1;31m#file.write(txt)\u001b[0m\u001b[1;33m\u001b[0m\u001b[1;33m\u001b[0m\u001b[1;33m\u001b[0m\u001b[0m\n\u001b[0;32m     12\u001b[0m \u001b[1;33m\u001b[0m\u001b[0m\n\u001b[1;32m---> 13\u001b[1;33m \u001b[1;32mwith\u001b[0m \u001b[0mopen\u001b[0m\u001b[1;33m(\u001b[0m\u001b[1;34m\"C:\\\\Users\\\\sx654\\\\Desktop\\\\Projectst\\\\ASCII_Image.txt\"\u001b[0m\u001b[1;33m,\u001b[0m \u001b[1;34m'w'\u001b[0m\u001b[1;33m)\u001b[0m \u001b[1;32mas\u001b[0m \u001b[0mf\u001b[0m\u001b[1;33m:\u001b[0m\u001b[1;33m\u001b[0m\u001b[1;33m\u001b[0m\u001b[0m\n\u001b[0m\u001b[0;32m     14\u001b[0m        \u001b[0mf\u001b[0m\u001b[1;33m.\u001b[0m\u001b[0mwrite\u001b[0m\u001b[1;33m(\u001b[0m\u001b[0mtxt\u001b[0m\u001b[1;33m)\u001b[0m\u001b[1;33m\u001b[0m\u001b[1;33m\u001b[0m\u001b[0m\n",
      "\u001b[1;31mFileNotFoundError\u001b[0m: [Errno 2] No such file or directory: 'C:\\\\Users\\\\sx654\\\\Desktop\\\\Projectst\\\\ASCII_Image.txt'"
     ]
    }
   ],
   "source": [
    "txt = \"\"\n",
    "for i in range(height):\n",
    "    for j in range(width):\n",
    "        r,g,b,a= image.getpixel((j, i))\n",
    "        txt += get_char(r,g,b,a) # 获得相应的字符\n",
    "    txt += '\\n'\n",
    "    \n",
    "print(txt) \n",
    "\n",
    "file = open(\"ASCII_Image.txt\",\"w\") \n",
    "#file.write(txt)\n"
   ]
  }
 ],
 "metadata": {
  "kernelspec": {
   "display_name": "Python 3",
   "language": "python",
   "name": "python3"
  },
  "language_info": {
   "codemirror_mode": {
    "name": "ipython",
    "version": 3
   },
   "file_extension": ".py",
   "mimetype": "text/x-python",
   "name": "python",
   "nbconvert_exporter": "python",
   "pygments_lexer": "ipython3",
   "version": "3.7.3"
  }
 },
 "nbformat": 4,
 "nbformat_minor": 2
}
